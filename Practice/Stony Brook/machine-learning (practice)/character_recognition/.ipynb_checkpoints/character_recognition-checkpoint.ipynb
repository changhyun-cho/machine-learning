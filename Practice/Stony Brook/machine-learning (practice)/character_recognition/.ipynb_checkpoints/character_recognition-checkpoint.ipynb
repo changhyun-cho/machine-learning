{
 "cells": [
  {
   "cell_type": "code",
   "execution_count": 1,
   "metadata": {},
   "outputs": [],
   "source": [
    "import numpy as np\n",
    "import matplotlib.pyplot as plt\n",
    "%matplotlib inline"
   ]
  },
  {
   "cell_type": "code",
   "execution_count": 13,
   "metadata": {},
   "outputs": [],
   "source": [
    "class TrainingDigit(object):\n",
    "    \"\"\"a handwritten digit from the MNIST training set\"\"\"\n",
    "\n",
    "    def __init__(self, raw_string):\n",
    "        \"\"\"we feed this a single line from the MNIST data set\"\"\"\n",
    "        self.raw_string = raw_string\n",
    "\n",
    "        # make the data range from 0.01 to 1.00\n",
    "        _tmp = raw_string.split(\",\")\n",
    "        self.scaled = np.asfarray(_tmp[1:])/255.0 * 0.99 + 0.01\n",
    "        \n",
    "        # the correct answer\n",
    "        self.num = int(_tmp[0])\n",
    "        \n",
    "        # the output for the NN as a bit array\n",
    "        self.out = np.zeros((10))\n",
    "        self.out[self.num] = 1\n",
    "        \n",
    "    def plot(self):\n",
    "        plt.imshow(self.scaled.reshape((28,28)), cmap=\"Greys\", interpolation=\"nearest\")"
   ]
  },
  {
   "cell_type": "code",
   "execution_count": 28,
   "metadata": {},
   "outputs": [],
   "source": [
    "class TrainingSet(object):\n",
    "    \"\"\"read the next digit from the training set csv file and return a\n",
    "    TrainingDigit object\"\"\"\n",
    "    \n",
    "    def __init__(self):\n",
    "        self.f = open(\"mnist_train.csv\", \"r\")\n",
    "        \n",
    "    def get_next(self):\n",
    "        return TrainingDigit(self.f.readline())\n",
    "    \n",
    "    def close(self):\n",
    "        # show implement a context manager\n",
    "        self.f.close()"
   ]
  },
  {
   "cell_type": "code",
   "execution_count": 29,
   "metadata": {},
   "outputs": [],
   "source": [
    "tset = TrainingSet()"
   ]
  },
  {
   "cell_type": "code",
   "execution_count": 30,
   "metadata": {},
   "outputs": [
    {
     "data": {
      "text/plain": [
       "'5'"
      ]
     },
     "execution_count": 30,
     "metadata": {},
     "output_type": "execute_result"
    }
   ],
   "source": [
    "d = tset.get_next()\n",
    "d.num"
   ]
  },
  {
   "cell_type": "code",
   "execution_count": 31,
   "metadata": {},
   "outputs": [
    {
     "data": {
      "image/png": "[encoded data removed]",
      "text/plain": [
       "<matplotlib.figure.Figure at 0x7f126bdf6978>"
      ]
     },
     "metadata": {},
     "output_type": "display_data"
    }
   ],
   "source": [
    "d.plot()"
   ]
  },
  {
   "cell_type": "code",
   "execution_count": 32,
   "metadata": {},
   "outputs": [
    {
     "data": {
      "text/plain": [
       "'0'"
      ]
     },
     "execution_count": 32,
     "metadata": {},
     "output_type": "execute_result"
    }
   ],
   "source": [
    "d = tset.get_next()\n",
    "d.num"
   ]
  },
  {
   "cell_type": "code",
   "execution_count": 33,
   "metadata": {},
   "outputs": [
    {
     "data": {
      "image/png": "[encoded data removed]",
      "text/plain": [
       "<matplotlib.figure.Figure at 0x7f126bd8e908>"
      ]
     },
     "metadata": {},
     "output_type": "display_data"
    }
   ],
   "source": [
    "d.plot()"
   ]
  },
  {
   "cell_type": "code",
   "execution_count": 35,
   "metadata": {},
   "outputs": [],
   "source": [
    "tset.close()"
   ]
  },
  {
   "cell_type": "code",
   "execution_count": 43,
   "metadata": {},
   "outputs": [],
   "source": [
    "class UnknownDigit(TrainingDigit):\n",
    "    \"\"\"this is like the TrainingDigit, but we will have a method that\n",
    "    takes the output and compares to the right answer\"\"\"\n",
    "    def __init__(self, raw_string):\n",
    "        super().__init__(raw_string)\n",
    "        self.out = None\n",
    "        \n",
    "    def check_output(out):\n",
    "        guess = np.argmax(out)\n",
    "        return guess == self.num"
   ]
  },
  {
   "cell_type": "code",
   "execution_count": 44,
   "metadata": {},
   "outputs": [],
   "source": [
    "class TestSet(object):\n",
    "    \"\"\"read the next digit from the test set csv file and return a\n",
    "    UnknownDigit object\"\"\"\n",
    "    \n",
    "    def __init__(self):\n",
    "        self.f = open(\"mnist_test.csv\", \"r\")\n",
    "        \n",
    "    def get_next(self):\n",
    "        return UnknownDigit(self.f.readline())\n",
    "    \n",
    "    def close(self):\n",
    "        # show implement a context manager\n",
    "        self.f.close()"
   ]
  },
  {
   "cell_type": "code",
   "execution_count": 45,
   "metadata": {},
   "outputs": [],
   "source": [
    "test = TestSet()"
   ]
  },
  {
   "cell_type": "code",
   "execution_count": 46,
   "metadata": {
    "scrolled": true
   },
   "outputs": [
    {
     "data": {
      "image/png": "[encoded data removed]",
      "text/plain": [
       "<matplotlib.figure.Figure at 0x7f126bc51f60>"
      ]
     },
     "metadata": {},
     "output_type": "display_data"
    }
   ],
   "source": [
    "test.get_next().plot()"
   ]
  },
  {
   "cell_type": "code",
   "execution_count": null,
   "metadata": {},
   "outputs": [],
   "source": []
  }
 ],
 "metadata": {
  "kernelspec": {
   "display_name": "Python 3",
   "language": "python",
   "name": "python3"
  },
  "language_info": {
   "codemirror_mode": {
    "name": "ipython",
    "version": 3
   },
   "file_extension": ".py",
   "mimetype": "text/x-python",
   "name": "python",
   "nbconvert_exporter": "python",
   "pygments_lexer": "ipython3",
   "version": "3.7.3"
  }
 },
 "nbformat": 4,
 "nbformat_minor": 2
}
